{
 "cells": [
  {
   "cell_type": "code",
   "execution_count": null,
   "metadata": {},
   "outputs": [],
   "source": [
    "import pandas as pd\n",
    "import numpy as np\n",
    "from sklearn.preprocessing import MinMaxScaler\n",
    "from sklearn.model_selection import train_test_split"
   ]
  },
  {
   "cell_type": "code",
   "execution_count": null,
   "metadata": {},
   "outputs": [],
   "source": [
    "def load_data(file_path):\n",
    "    \"\"\"Load the sales data.\"\"\"\n",
    "    return pd.read_csv(file_path)"
   ]
  },
  {
   "cell_type": "code",
   "execution_count": null,
   "metadata": {},
   "outputs": [],
   "source": [
    "def preprocess_data(df):\n",
    "    \"\"\"Preprocess the data including handling missing values and feature engineering.\"\"\"\n",
    "    # Convert date to datetime\n",
    "    df['Date'] = pd.to_datetime(df['Date'])\n",
    "    \n",
    "    # Handle missing values\n",
    "    df = df.fillna(method='ffill')\n",
    "    \n",
    "    # Feature engineering\n",
    "    df['Year'] = df['Date'].dt.year\n",
    "    df['Month'] = df['Date'].dt.month\n",
    "    df['Day'] = df['Date'].dt.day\n",
    "    df['DayOfWeek'] = df['Date'].dt.dayofweek\n",
    "    \n",
    "    # Create lag features\n",
    "    for lag in [1, 2, 3, 4]:\n",
    "        df[f'Sales_Lag_{lag}'] = df.groupby(['Store', 'Dept'])['Weekly_Sales'].shift(lag)\n",
    "    \n",
    "    # Create rolling mean features\n",
    "    for window in [7, 28]:\n",
    "        df[f'Sales_Rolling_Mean_{window}'] = df.groupby(['Store', 'Dept'])['Weekly_Sales'].transform(\n",
    "            lambda x: x.rolling(window=window, min_periods=1).mean())\n",
    "    \n",
    "    # Drop rows with NaN values after feature engineering\n",
    "    df = df.dropna()\n",
    "    \n",
    "    return df"
   ]
  },
  {
   "cell_type": "code",
   "execution_count": null,
   "metadata": {},
   "outputs": [],
   "source": [
    "def normalize_data(df):\n",
    "    \"\"\"Normalize numerical features using Min-Max scaling.\"\"\"\n",
    "    scaler = MinMaxScaler()\n",
    "    numerical_columns = ['Weekly_Sales', 'Sales_Lag_1', 'Sales_Lag_2', 'Sales_Lag_3', 'Sales_Lag_4',\n",
    "                         'Sales_Rolling_Mean_7', 'Sales_Rolling_Mean_28']\n",
    "    df[numerical_columns] = scaler.fit_transform(df[numerical_columns])\n",
    "    return df, scaler"
   ]
  },
  {
   "cell_type": "code",
   "execution_count": null,
   "metadata": {},
   "outputs": [],
   "source": [
    "\n",
    "def split_data(df):\n",
    "    \"\"\"Split the data into training, validation, and test sets.\"\"\"\n",
    "    train_val, test = train_test_split(df, test_size=0.15, shuffle=False)\n",
    "    train, val = train_test_split(train_val, test_size=0.15, shuffle=False)\n",
    "    return train, val, test\n"
   ]
  },
  {
   "cell_type": "code",
   "execution_count": null,
   "metadata": {},
   "outputs": [],
   "source": [
    "# Load data\n",
    "df = load_data('data/walmart_sales.csv')\n",
    "\n",
    "# Preprocess data\n",
    "df = preprocess_data(df)\n",
    "\n",
    "# Normalize data\n",
    "df, scaler = normalize_data(df)\n",
    "\n",
    "# Split data\n",
    "train, val, test = split_data(df)\n",
    "\n",
    "# Save processed datasets\n",
    "train.to_csv('data/train.csv', index=False)\n",
    "val.to_csv('data/val.csv', index=False)\n",
    "test.to_csv('data/test.csv', index=False)\n",
    "\n",
    "print(\"Data preprocessing completed.\")"
   ]
  }
 ],
 "metadata": {
  "language_info": {
   "name": "python"
  }
 },
 "nbformat": 4,
 "nbformat_minor": 2
}
